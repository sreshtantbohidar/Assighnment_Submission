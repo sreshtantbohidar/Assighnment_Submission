{
  "metadata": {
    "kernelspec": {
      "name": "python",
      "display_name": "Python (Pyodide)",
      "language": "python"
    },
    "language_info": {
      "codemirror_mode": {
        "name": "python",
        "version": 3
      },
      "file_extension": ".py",
      "mimetype": "text/x-python",
      "name": "python",
      "nbconvert_exporter": "python",
      "pygments_lexer": "ipython3",
      "version": "3.8"
    }
  },
  "nbformat_minor": 4,
  "nbformat": 4,
  "cells": [
    {
      "cell_type": "markdown",
      "source": "<h1>Exercise 1: Create a Jupyter Notebook</h1>",
      "metadata": {}
    },
    {
      "cell_type": "markdown",
      "source": "<h2><strong>Name:</strong> Peer Graded Assignment Submitting</h2>",
      "metadata": {}
    },
    {
      "cell_type": "markdown",
      "source": "<strong>Exercise 2 - Create a markdown cell with the title of the notebook.</strong>",
      "metadata": {}
    },
    {
      "cell_type": "markdown",
      "source": "<h1>Data Science Tools and Ecosystem</h1>",
      "metadata": {}
    },
    {
      "cell_type": "markdown",
      "source": "<strong>Exercise 3 - Create a markdown cell for an introduction. (1 pt)</strong>",
      "metadata": {}
    },
    {
      "cell_type": "markdown",
      "source": "<p>In this notebook, Data Science Tools and Ecosystem are summarized.<p>",
      "metadata": {}
    },
    {
      "cell_type": "markdown",
      "source": "<strong>Exercise 4 - Create a markdown cell to list data science languages. (3 pts)</strong>",
      "metadata": {}
    },
    {
      "cell_type": "markdown",
      "source": "<ol>\n    <li>Python.</li>\n    <li>R.</li>\n    <li>SQL.</li>\n    <li>Java.</li>\n    <li>Julia.</li>\n    <li>Scala.</li>\n    <li>C/C++.</li>\n    <li>JavaScript.</li>\n</ol>",
      "metadata": {}
    },
    {
      "cell_type": "markdown",
      "source": "<strong>Exercise 5 - Create a markdown cell to list data science libraries. (3 pts)</strong>",
      "metadata": {}
    },
    {
      "cell_type": "markdown",
      "source": "<ol>\n    <li>TensorFlow.</li>\n    <li>NumPy.</li>\n    <li>SciPy.</li>\n    <li>Pandas.</li>\n    <li>Matplotlib.</li>\n    <li>Keras.</li>\n    <li>SciKit-Learn.</li>\n    <li>PyTorch.</li>\n    <li>Scrapy.</li>\n    <li>BeautifulSoup.</li>\n    <li>LightGBM.</li>\n    <li>ELI5.</li>\n    <li>Theano.</li>\n    <li>NuPIC.</li>\n    <li>Ramp.</li>\n    <li>Pipenv.</li>\n    <li>Bob.</li>\n    <li>PyBrain.</li>\n    <li>Caffe2.</li>\n    <li>Chainer.</li>\n</ol>",
      "metadata": {}
    },
    {
      "cell_type": "markdown",
      "source": "<strong>Exercise 6 - Create a markdown cell with a table of Data Science tools. (3 pts)</strong>",
      "metadata": {}
    },
    {
      "cell_type": "markdown",
      "source": "Data Science Tools:\n\n<table style=\"width:100%\">\n  <tr>\n    <th>Data Science Tools</th>\n    <th></th>\n    <th></th>\n  </tr>\n  <tr>\n    <td>SAS. It is one of those data science tools which are specifically designed for statistical operation</td>\n    <td></td>\n    <td></td>\n  </tr>\n  <tr>\n    <td>Apache Spark</td>\n    <td></td>\n    <td></td>\n  </tr>\n  <tr>\n    <td>BigML</td>\n    <td></td>\n    <td></td>\n  </tr>\n</table>",
      "metadata": {}
    },
    {
      "cell_type": "markdown",
      "source": "<strong>Exercise 7 - Create a markdown cell introducing arithmetic expression examples. (1 pt)</strong>",
      "metadata": {}
    },
    {
      "cell_type": "code",
      "source": "# Arithmetic operations\ncode = compile(\"5 + 40\", \"<string>\", \"eval\")\neval(code)\n# Result: 45",
      "metadata": {
        "trusted": true
      },
      "outputs": [
        {
          "execution_count": 7,
          "output_type": "execute_result",
          "data": {
            "text/plain": "45"
          },
          "metadata": {}
        }
      ],
      "execution_count": 7
    },
    {
      "cell_type": "code",
      "source": "code1 = compile(\"(9 + 70) * 2\", \"<string>\", \"eval\")\neval(code1)\n# Result: 158",
      "metadata": {
        "trusted": true
      },
      "outputs": [
        {
          "execution_count": 8,
          "output_type": "execute_result",
          "data": {
            "text/plain": "158"
          },
          "metadata": {}
        }
      ],
      "execution_count": 8
    },
    {
      "cell_type": "code",
      "source": "import math\n# Volume of a sphere\ncode2 = compile(\"3 / 8 * math.pi * math.pow(27, 5)\", \"<string>\", \"eval\")\neval(code2)\n# Result: 16904407.806841183",
      "metadata": {
        "trusted": true
      },
      "outputs": [
        {
          "execution_count": 10,
          "output_type": "execute_result",
          "data": {
            "text/plain": "16904407.806841183"
          },
          "metadata": {}
        }
      ],
      "execution_count": 10
    },
    {
      "cell_type": "markdown",
      "source": "<strong>Exercise 8 - Create a code cell to multiply and add numbers.(2 pts)</strong>",
      "metadata": {}
    },
    {
      "cell_type": "code",
      "source": "(3*4)+5\n# Result: 17",
      "metadata": {
        "trusted": true
      },
      "outputs": [
        {
          "execution_count": 11,
          "output_type": "execute_result",
          "data": {
            "text/plain": "17"
          },
          "metadata": {}
        }
      ],
      "execution_count": 11
    },
    {
      "cell_type": "markdown",
      "source": "<strong>Exercise 9 - Create a code cell to convert minutes to hours. (2 pts)</strong>",
      "metadata": {}
    },
    {
      "cell_type": "code",
      "source": "days = 0\nhours = 0\nmins = 0\n\ntime = 700\n#days = time / 1440\nleftover_minutes = time % 1440\nhours = leftover_minutes / 60\n#mins = time - (days*1440) - (hours*60)\nprint(str(hours) + \" hours\")\n\n# Result:11.666666666666666 hours",
      "metadata": {
        "trusted": true
      },
      "outputs": [
        {
          "name": "stdout",
          "text": "11.666666666666666 hours\n",
          "output_type": "stream"
        }
      ],
      "execution_count": 14
    },
    {
      "cell_type": "markdown",
      "source": "<strong>Exercise 10 -Insert a markdown cell to list Objectives.</strong>",
      "metadata": {}
    },
    {
      "cell_type": "markdown",
      "source": "<p>Below the introduction cell created in Exercise 3, insert a new markdown cell to list the objectives that this notebook covered (i.e. some of the key takeaways from the course). In this new cell start with an introductory line titled: Objectives: in bold font. Then using an unordered list (bullets) indicate 3 to 5 items covered in this notebook, such as List popular languages for Data Science.</p>",
      "metadata": {}
    },
    {
      "cell_type": "markdown",
      "source": "<strong>Exercise 11 - Create a markdown cell to indicate the Author’s name.</strong>",
      "metadata": {}
    },
    {
      "cell_type": "markdown",
      "source": "<h2>Author:</h2> Sreshtant Bohidar",
      "metadata": {}
    },
    {
      "cell_type": "code",
      "source": "",
      "metadata": {
        "trusted": true
      },
      "outputs": [],
      "execution_count": null
    }
  ]
}