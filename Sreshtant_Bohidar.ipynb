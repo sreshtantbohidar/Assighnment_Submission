{
  "metadata": {
    "kernelspec": {
      "name": "python",
      "display_name": "Python (Pyodide)",
      "language": "python"
    },
    "language_info": {
      "codemirror_mode": {
        "name": "python",
        "version": 3
      },
      "file_extension": ".py",
      "mimetype": "text/x-python",
      "name": "python",
      "nbconvert_exporter": "python",
      "pygments_lexer": "ipython3",
      "version": "3.8"
    }
  },
  "nbformat_minor": 4,
  "nbformat": 4,
  "cells": [
    {
      "cell_type": "markdown",
      "source": "<strong>Exercise 1: Create a Jupyter Notebook</strong>",
      "metadata": {}
    },
    {
      "cell_type": "markdown",
      "source": "<h2><strong>Name:</strong> Peer Graded Assignment Submitting</h2>",
      "metadata": {}
    },
    {
      "cell_type": "markdown",
      "source": "<strong>Exercise 2 - Create a markdown cell with the title of the notebook.</strong>",
      "metadata": {}
    },
    {
      "cell_type": "markdown",
      "source": "<h1>Data Science Tools and Ecosystem</h1>",
      "metadata": {}
    },
    {
      "cell_type": "markdown",
      "source": "<strong>Exercise 3 - Create a markdown cell for an introduction. (1 pt)</strong>",
      "metadata": {}
    },
    {
      "cell_type": "markdown",
      "source": "<p>In this notebook, Data Science Tools and Ecosystem are summarized.<p>",
      "metadata": {}
    },
    {
      "cell_type": "markdown",
      "source": "<strong>Exercise 4 - Create a markdown cell to list data science languages. (3 pts)</strong>",
      "metadata": {}
    },
    {
      "cell_type": "markdown",
      "source": "Some of the popular languages that Data Scientists use are:\n<ol>\n    <li>Python.</li>\n    <li>R.</li>\n    <li>SQL.</li>\n    <li>Java.</li>\n    <li>Julia.</li>\n    <li>Scala.</li>\n    <li>C/C++.</li>\n    <li>JavaScript.</li>\n</ol>",
      "metadata": {}
    },
    {
      "cell_type": "markdown",
      "source": "<strong>Exercise 5 - Create a markdown cell to list data science libraries. (3 pts)</strong>",
      "metadata": {}
    },
    {
      "cell_type": "markdown",
      "source": "Some of the commonly used libraries used by Data Scientists include:\n<ol>\n    <li>TensorFlow.</li>\n    <li>NumPy.</li>\n    <li>SciPy.</li>\n    <li>Pandas.</li>\n    <li>Matplotlib.</li>\n    <li>Keras.</li>\n    <li>SciKit-Learn.</li>\n    <li>PyTorch.</li>\n    <li>Scrapy.</li>\n    <li>BeautifulSoup.</li>\n    <li>LightGBM.</li>\n    <li>ELI5.</li>\n    <li>Theano.</li>\n    <li>NuPIC.</li>\n    <li>Ramp.</li>\n    <li>Pipenv.</li>\n    <li>Bob.</li>\n    <li>PyBrain.</li>\n    <li>Caffe2.</li>\n    <li>Chainer.</li>\n</ol>",
      "metadata": {}
    },
    {
      "cell_type": "markdown",
      "source": "<strong>Exercise 6 - Create a markdown cell with a table of Data Science tools. (3 pts)</strong>",
      "metadata": {}
    },
    {
      "cell_type": "markdown",
      "source": "Data Science Tools:\n\n<table style=\"width:100%\">\n  <tr>\n    <th>Data Science Tools</th>\n    <th></th> \n    <th></th>   \n  </tr>\n  <tr>\n    <td>Anaconda</td>\n    <td></td>  \n    <td></td>    \n  </tr>\n  <tr>\n    <td>R Studio</td>\n    <td></td>\n    <td></td>    \n  </tr>\n  <tr>\n    <td>Spyder</td>\n    <td></td> \n    <td></td>    \n  </tr>\n  <tr>\n    <td>Zeppelin</td>\n    <td></td>  \n    <td></td>   \n  </tr>\n</table>",
      "metadata": {}
    },
    {
      "cell_type": "code",
      "source": "",
      "metadata": {
        "trusted": true
      },
      "outputs": [],
      "execution_count": null
    },
    {
      "cell_type": "markdown",
      "source": "<strong>Exercise 7 - Create a markdown cell introducing arithmetic expression examples. (1 pt)</strong>",
      "metadata": {}
    },
    {
      "cell_type": "markdown",
      "source": "Below are a few examples of evaluating arithmetic expressions in Python",
      "metadata": {}
    },
    {
      "cell_type": "code",
      "source": "# Arithmetic operations\ncode = compile(\"5 + 4\", \"<string>\", \"eval\")\neval(code)\n# Result: 9",
      "metadata": {
        "trusted": true
      },
      "outputs": [
        {
          "execution_count": 4,
          "output_type": "execute_result",
          "data": {
            "text/plain": "9"
          },
          "metadata": {}
        }
      ],
      "execution_count": 4
    },
    {
      "cell_type": "code",
      "source": "code1 = compile(\"(5 + 7) * 2\", \"<string>\", \"eval\")\neval(code1)\n# Result: 24",
      "metadata": {
        "trusted": true
      },
      "outputs": [
        {
          "execution_count": 5,
          "output_type": "execute_result",
          "data": {
            "text/plain": "24"
          },
          "metadata": {}
        }
      ],
      "execution_count": 5
    },
    {
      "cell_type": "code",
      "source": "import math\n# Volume of a sphere\ncode2 = compile(\"4 / 3 * math.pi * math.pow(25, 3)\", \"<string>\", \"eval\")\neval(code2)\n# Result: 65449.84694978735",
      "metadata": {
        "trusted": true
      },
      "outputs": [
        {
          "execution_count": 6,
          "output_type": "execute_result",
          "data": {
            "text/plain": "65449.84694978735"
          },
          "metadata": {}
        }
      ],
      "execution_count": 6
    },
    {
      "cell_type": "markdown",
      "source": "<strong>Exercise 8 - Create a code cell to multiply and add numbers.(2 pts)</strong>",
      "metadata": {}
    },
    {
      "cell_type": "markdown",
      "source": "This a simple arithmetic expression to mutiply then add integers",
      "metadata": {}
    },
    {
      "cell_type": "code",
      "source": "(3*4)+5\n# Result: 17",
      "metadata": {
        "trusted": true
      },
      "outputs": [
        {
          "execution_count": 7,
          "output_type": "execute_result",
          "data": {
            "text/plain": "17"
          },
          "metadata": {}
        }
      ],
      "execution_count": 7
    },
    {
      "cell_type": "markdown",
      "source": "<strong>Exercise 9 - Create a code cell to convert minutes to hours. (2 pts)</strong>",
      "metadata": {}
    },
    {
      "cell_type": "markdown",
      "source": "This will convert 200 minutes to hours by diving by 60",
      "metadata": {}
    },
    {
      "cell_type": "code",
      "source": "# time in minutes\ntime_in_minutes = 200\n# compute hours from minutes\nhours = time_in_minutes / 60\nprint(hours, \"hours\")\n# Result: 3.3333333333333335 hours",
      "metadata": {
        "trusted": true
      },
      "outputs": [
        {
          "name": "stdout",
          "text": "3.3333333333333335 hours\n",
          "output_type": "stream"
        }
      ],
      "execution_count": 11
    },
    {
      "cell_type": "markdown",
      "source": "<strong>Exercise 10 -Insert a markdown cell to list Objectives.</strong>",
      "metadata": {}
    },
    {
      "cell_type": "markdown",
      "source": "In this notebook, Data Science Tools and Ecosystem are summarized.\n\n<strong>Objectives</strong>\n<ul>\n    <li>List popular languages for Data Science</li>\n    <li>List common used libraries used by Data Scientists</li>\n    <li>Tabulate data science tools</li>\n    <li>Evaluate arithmetic expressions</li>\n</ul>",
      "metadata": {}
    },
    {
      "cell_type": "markdown",
      "source": "<strong>Exercise 11 - Create a markdown cell to indicate the Author’s name.</strong>",
      "metadata": {}
    },
    {
      "cell_type": "markdown",
      "source": "<h2>Author(s):</h2> Sreshtant Bohidar",
      "metadata": {}
    },
    {
      "cell_type": "code",
      "source": "",
      "metadata": {
        "trusted": true
      },
      "outputs": [],
      "execution_count": null
    }
  ]
}